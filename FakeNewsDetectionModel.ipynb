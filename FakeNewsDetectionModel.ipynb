{
  "nbformat": 4,
  "nbformat_minor": 0,
  "metadata": {
    "colab": {
      "provenance": []
    },
    "kernelspec": {
      "name": "python3",
      "display_name": "Python 3"
    },
    "language_info": {
      "name": "python"
    }
  },
  "cells": [
    {
      "cell_type": "markdown",
      "source": [
        "# PreProcessing"
      ],
      "metadata": {
        "id": "yu6MY9kZxLS2"
      }
    },
    {
      "cell_type": "code",
      "source": [
        "import pandas as pd\n",
        "import numpy as np\n",
        "\n",
        "true = pd.read_csv('True.csv')\n",
        "fake = pd.read_csv('Fake.csv')\n",
        "\n",
        "true['label'] = 1\n",
        "fake['label'] = 0\n",
        "\n",
        "true.head()\n",
        "\n",
        "news = pd.concat([fake, true], axis = 0)\n",
        "\n",
        "\n",
        "news = news.drop(['title', 'subject', 'date'], axis = 1)\n",
        "\n",
        "news = news.sample(frac = 1)\n",
        "\n",
        "news.reset_index(inplace = True)\n",
        "\n",
        "news.drop(['index'], axis = 1, inplace = True)\n"
      ],
      "metadata": {
        "id": "p7gT0Zt5usrB"
      },
      "execution_count": null,
      "outputs": []
    },
    {
      "cell_type": "markdown",
      "source": [
        "# Feature Extraction"
      ],
      "metadata": {
        "id": "9S6OzP6_xPr3"
      }
    },
    {
      "cell_type": "code",
      "source": [
        "import re\n",
        "\n",
        "def wordopt(text):\n",
        "    text = text.lower()\n",
        "    text = re.sub(r'@\\S+', '', text)\n",
        "    text = re.sub(r'https?://\\S+|www\\.\\S+', '', text)\n",
        "\n",
        "    # remove digits\n",
        "    text = re.sub(r'\\d+', '', text)\n",
        "\n",
        "    # remove newline characters\n",
        "    text = re.sub(r'\\n', '', text)\n",
        "\n",
        "\n",
        "    return text\n",
        "\n",
        "news['text'] = news['text'].apply(wordopt)\n",
        "\n",
        "\n",
        "x = news['text']\n",
        "y = news['label']\n",
        "\n"
      ],
      "metadata": {
        "id": "FvAmNwBRxTPy"
      },
      "execution_count": null,
      "outputs": []
    },
    {
      "cell_type": "markdown",
      "source": [
        "# Model Training (Logistic Regression)"
      ],
      "metadata": {
        "id": "snpR21zsy0nc"
      }
    },
    {
      "cell_type": "code",
      "source": [
        "from sklearn.model_selection import train_test_split\n",
        "from sklearn.feature_extraction.text import TfidfVectorizer\n",
        "from sklearn.linear_model import LogisticRegression\n",
        "from sklearn.metrics import accuracy_score\n",
        "\n",
        "x_train, x_test, y_train, y_test = train_test_split(x, y, test_size = 0.2, stratify = y, random_state = 2)\n",
        "\n",
        "vectorizer = TfidfVectorizer()\n",
        "vectorizer.fit(x_train)\n",
        "\n",
        "x_train = vectorizer.transform(x_train)\n",
        "x_test = vectorizer.transform(x_test)\n",
        "\n",
        "model = LogisticRegression()\n",
        "model.fit(x_train, y_train)"
      ],
      "metadata": {
        "id": "yqEuabfMy3-Y"
      },
      "execution_count": null,
      "outputs": []
    },
    {
      "cell_type": "markdown",
      "source": [
        "# Logistic Regression report"
      ],
      "metadata": {
        "id": "xwMoRQfz023L"
      }
    },
    {
      "cell_type": "code",
      "source": [
        "prediction = model.predict(x_test)\n",
        "print(accuracy_score(y_test, prediction))\n",
        "\n",
        "print(classification_report(y_test, prediction))"
      ],
      "metadata": {
        "colab": {
          "base_uri": "https://localhost:8080/"
        },
        "id": "JWSCJWc108YD",
        "outputId": "d67f62f5-e44f-42d5-c31d-84e0d5475feb"
      },
      "execution_count": 30,
      "outputs": [
        {
          "output_type": "stream",
          "name": "stdout",
          "text": [
            "0.9868596881959911\n",
            "              precision    recall  f1-score   support\n",
            "\n",
            "           0       0.99      0.99      0.99      4696\n",
            "           1       0.99      0.99      0.99      4284\n",
            "\n",
            "    accuracy                           0.99      8980\n",
            "   macro avg       0.99      0.99      0.99      8980\n",
            "weighted avg       0.99      0.99      0.99      8980\n",
            "\n"
          ]
        }
      ]
    },
    {
      "cell_type": "markdown",
      "source": [
        "# LSTM Based model"
      ],
      "metadata": {
        "id": "kr2cTbne1r23"
      }
    },
    {
      "cell_type": "code",
      "source": [
        "import tensorflow as tf\n",
        "from tensorflow.keras.preprocessing.text import Tokenizer\n",
        "from tensorflow.keras.preprocessing.sequence import pad_sequences\n",
        "from tensorflow.keras.models import Sequential\n",
        "from tensorflow.keras.layers import Embedding, LSTM, Dense, SpatialDropout1D\n",
        "from sklearn.preprocessing import LabelEncoder\n",
        "\n",
        "# Tokenization\n",
        "tokenizer = Tokenizer(num_words=5000, oov_token=\"<OOV>\")\n",
        "# Convert x_train and x_test back to raw text if they are sparse matrices\n",
        "if not isinstance(x_train, pd.Series):\n",
        "    x_train = news['text'][y_train.index]  # Extract original text\n",
        "    x_test = news['text'][y_test.index]\n",
        "\n",
        "tokenizer = Tokenizer(num_words=5000, oov_token=\"<OOV>\")\n",
        "tokenizer.fit_on_texts(x_train)\n",
        "\n",
        "\n",
        "x_train_seq = tokenizer.texts_to_sequences(x_train)\n",
        "x_test_seq = tokenizer.texts_to_sequences(x_test)\n",
        "\n",
        "max_length = 300  # Adjust based on dataset analysis\n",
        "x_train_pad = pad_sequences(x_train_seq, maxlen=max_length, padding=\"post\")\n",
        "x_test_pad = pad_sequences(x_test_seq, maxlen=max_length, padding=\"post\")\n",
        "\n",
        "# Build LSTM model\n",
        "model_lstm = Sequential([\n",
        "    Embedding(5000, 128, input_length=max_length),\n",
        "    SpatialDropout1D(0.2),\n",
        "    LSTM(100, dropout=0.2, recurrent_dropout=0.2),\n",
        "    Dense(1, activation=\"sigmoid\")\n",
        "])\n",
        "\n",
        "model_lstm.compile(loss=\"binary_crossentropy\", optimizer=\"adam\", metrics=[\"accuracy\"])\n",
        "model_lstm.fit(x_train_pad, y_train, epochs=5, batch_size=64, validation_data=(x_test_pad, y_test))\n",
        "\n",
        "\n",
        "\n",
        "# Evaluate Model\n",
        "y_pred_lstm = (model_lstm.predict(x_test_pad) > 0.5).astype(\"int32\")\n",
        "print(accuracy_score(y_test, y_pred_lstm))\n"
      ],
      "metadata": {
        "colab": {
          "base_uri": "https://localhost:8080/"
        },
        "id": "1D0Ic_PF1xeu",
        "outputId": "48dfce71-b04f-4348-c11a-0d49dd32bfff"
      },
      "execution_count": 35,
      "outputs": [
        {
          "output_type": "stream",
          "name": "stdout",
          "text": [
            "Epoch 1/5\n",
            "\u001b[1m562/562\u001b[0m \u001b[32m━━━━━━━━━━━━━━━━━━━━\u001b[0m\u001b[37m\u001b[0m \u001b[1m263s\u001b[0m 462ms/step - accuracy: 0.7921 - loss: 0.4074 - val_accuracy: 0.9242 - val_loss: 0.2138\n",
            "Epoch 2/5\n",
            "\u001b[1m562/562\u001b[0m \u001b[32m━━━━━━━━━━━━━━━━━━━━\u001b[0m\u001b[37m\u001b[0m \u001b[1m276s\u001b[0m 486ms/step - accuracy: 0.9325 - loss: 0.1923 - val_accuracy: 0.9463 - val_loss: 0.1653\n",
            "Epoch 3/5\n",
            "\u001b[1m562/562\u001b[0m \u001b[32m━━━━━━━━━━━━━━━━━━━━\u001b[0m\u001b[37m\u001b[0m \u001b[1m324s\u001b[0m 490ms/step - accuracy: 0.9384 - loss: 0.1695 - val_accuracy: 0.9568 - val_loss: 0.1337\n",
            "Epoch 4/5\n",
            "\u001b[1m562/562\u001b[0m \u001b[32m━━━━━━━━━━━━━━━━━━━━\u001b[0m\u001b[37m\u001b[0m \u001b[1m276s\u001b[0m 490ms/step - accuracy: 0.9605 - loss: 0.1232 - val_accuracy: 0.9621 - val_loss: 0.1199\n",
            "Epoch 5/5\n",
            "\u001b[1m562/562\u001b[0m \u001b[32m━━━━━━━━━━━━━━━━━━━━\u001b[0m\u001b[37m\u001b[0m \u001b[1m324s\u001b[0m 493ms/step - accuracy: 0.9635 - loss: 0.1118 - val_accuracy: 0.9867 - val_loss: 0.0515\n"
          ]
        },
        {
          "output_type": "stream",
          "name": "stderr",
          "text": [
            "WARNING:absl:You are saving your model as an HDF5 file via `model.save()` or `keras.saving.save_model(model)`. This file format is considered legacy. We recommend using instead the native Keras format, e.g. `model.save('my_model.keras')` or `keras.saving.save_model(model, 'my_model.keras')`. \n"
          ]
        },
        {
          "output_type": "stream",
          "name": "stdout",
          "text": [
            "\u001b[1m281/281\u001b[0m \u001b[32m━━━━━━━━━━━━━━━━━━━━\u001b[0m\u001b[37m\u001b[0m \u001b[1m23s\u001b[0m 80ms/step\n",
            "0.9867483296213808\n"
          ]
        }
      ]
    },
    {
      "cell_type": "code",
      "source": [
        "model_lstm.save(\"lstm_fake_news_model.keras\")\n"
      ],
      "metadata": {
        "id": "9gmG4ZYD87zl"
      },
      "execution_count": 36,
      "outputs": []
    },
    {
      "cell_type": "code",
      "source": [],
      "metadata": {
        "id": "lTiYGsWF88aA"
      },
      "execution_count": null,
      "outputs": []
    }
  ]
}